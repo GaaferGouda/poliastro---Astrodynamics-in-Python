{
 "cells": [
  {
   "cell_type": "markdown",
   "metadata": {},
   "source": [
    "### **GNC application - Satellite Tracker using Python and AI**\n",
    "### Project Steps:\n",
    "1. **Fetch Real-Time TLE Data**: Retrieve TLE data for satellites from CelesTrak.\n",
    "2. **Calculate Satellite Position**: Use Skyfield to compute the satellite’s location at different times.\n",
    "3. **Train AI Model**: Develop an LSTM model to predict future satellite positions.\n",
    "4. **Visualize Satellite Path**: Plot the satellite’s trajectory and predicted positions on an interactive map.\n",
    "### Required Tools & Libraries:\n",
    "- **Programming Language**: Python\n",
    "- **Libraries**:\n",
    "    - `requests`: Fetching TLE data\n",
    "    - `skyfield`: Satellite orbit calculations\n",
    "    - `numpy`, `pandas`: Data processing\n",
    "    - `tensorflow`/`keras`: AI model (LSTM)\n",
    "    - `matplotlib`, `plotly`: Visualization\n",
    "    - `folium`: Interactive map"
   ]
  },
  {
   "cell_type": "markdown",
   "metadata": {},
   "source": [
    "### Steps to Implement\n",
    "\n",
    "1. **Fetch Satellite Data from CelesTrak**: Retrieve the TLE data for a satellite, such as the International Space Station (ISS)."
   ]
  },
  {
   "cell_type": "code",
   "execution_count": null,
   "metadata": {},
   "outputs": [],
   "source": [
    "import requests\n",
    "\n",
    "# Fetch TLE data for ISS\n",
    "url = \"https://celestrak.org/NORAD/elements/gp.php?CATNR=25544&FORMAT=tle\"\n",
    "response = requests.get(url)\n",
    "tle_data = response.text.strip().split(\"\\n\")\n",
    "\n",
    "# Extract lines\n",
    "satellite_name = tle_data[0]\n",
    "tle_line1 = tle_data[1]\n",
    "tle_line2 = tle_data[2]\n",
    "\n",
    "print(\"Satellite:\", satellite_name)\n",
    "print(\"TLE Line 1:\", tle_line1)\n",
    "print(\"TLE Line 2:\", tle_line2)\n"
   ]
  },
  {
   "cell_type": "markdown",
   "metadata": {},
   "source": [
    "### 2- Calculate the Current Orbit using Skyfield\n",
    "Utilize Skyfield to determine the satellite's position at various times."
   ]
  },
  {
   "cell_type": "code",
   "execution_count": null,
   "metadata": {},
   "outputs": [],
   "source": [
    "%pip install skyfield\n",
    "from skyfield.api import load, EarthSatellite\n",
    "\n",
    "# Load ephemeris data\n",
    "\n",
    "ts = load.timescale()\n",
    "satellite = EarthSatellite(tle_line1, tle_line2, satellite_name, ts)\n",
    "\n",
    "# Get positions for the next 24 hours\n",
    "times = [ts.utc(2025, 2, 16, h) for h in range(24)]\n",
    "positions = [satellite.at(t).subpoint() for t in times]\n",
    "\n",
    "# Extract latitude, longitude, and altitude\n",
    "latitudes = [p.latitude.degrees for p in positions]\n",
    "longitudes = [p.longitude.degrees for p in positions]\n",
    "altitudes = [p.elevation.km for p in positions]\n"
   ]
  },
  {
   "cell_type": "markdown",
   "metadata": {},
   "source": [
    "### 3- Train an AI Model for Future Predictions\n",
    "We employ an LSTM model to analyze the time-series data of satellite positions and forecast future locations."
   ]
  },
  {
   "cell_type": "code",
   "execution_count": null,
   "metadata": {},
   "outputs": [],
   "source": [
    "%pip install tensorflow\n",
    "import tensorflow as tf\n",
    "from tensorflow import keras\n",
    "import numpy as np\n",
    "\n",
    "# Convert data into a training set\n",
    "data = np.array(list(zip(latitudes, longitudes)))\n",
    "X_train, y_train = data[:-1], data[1:]\n",
    "\n",
    "# Build the LSTM model\n",
    "model = keras.Sequential([\n",
    "    keras.layers.LSTM(50, return_sequences=True, input_shape=(1, 2)),\n",
    "    keras.layers.LSTM(50),\n",
    "    keras.layers.Dense(2)  # Output: (latitude, longitude)\n",
    "])\n",
    "\n",
    "model.compile(optimizer='adam', loss='mse')\n",
    "\n",
    "# Reshape data for LSTM\n",
    "X_train = X_train.reshape((X_train.shape[0], 1, X_train.shape[1]))\n",
    "y_train = y_train.reshape((y_train.shape[0], 2))\n",
    "\n",
    "# Train the model\n",
    "model.fit(X_train, y_train, epochs=100, batch_size=4)\n"
   ]
  },
  {
   "cell_type": "markdown",
   "metadata": {},
   "source": [
    "### 4- Predict Future Positions\n",
    "Using our trained LSTM model, we forecast the satellite's position for the next 6 hours.\n"
   ]
  },
  {
   "cell_type": "code",
   "execution_count": null,
   "metadata": {},
   "outputs": [],
   "source": [
    "# Predict next position\n",
    "future_prediction = model.predict(X_train[-1].reshape(1, 1, 2))\n",
    "predicted_lat, predicted_lon = future_prediction[0]\n",
    "\n",
    "print(f\" Predicted Position in 6 Hours:\")\n",
    "print(f\"Latitude: {predicted_lat:.2f}, Longitude: {predicted_lon:.2f}\")\n"
   ]
  },
  {
   "cell_type": "markdown",
   "metadata": {},
   "source": [
    "### 5- Visualize the Results on a Map\n",
    "We utilize Folium to plot the satellite's trajectory and its predicted future position."
   ]
  },
  {
   "cell_type": "code",
   "execution_count": null,
   "metadata": {},
   "outputs": [],
   "source": [
    "%pip install folium\n",
    "import folium\n",
    "import webbrowser\n",
    "\n",
    "# Create a map centered at the first recorded position\n",
    "m = folium.Map(location=[latitudes[0], longitudes[0]], zoom_start=3)\n",
    "\n",
    "# Plot actual trajectory\n",
    "for lat, lon in zip(latitudes, longitudes):\n",
    "    folium.CircleMarker([lat, lon], radius=2, color=\"blue\").add_to(m)\n",
    "\n",
    "# Plot predicted position\n",
    "folium.Marker([predicted_lat, predicted_lon], popup=\"Predicted Position\", icon=folium.Icon(color=\"red\")).add_to(m)\n",
    "\n",
    "# Save and display the map\n",
    "m.save(\"satellite_prediction.html\")\n",
    "print(\" Map saved! Open satellite_prediction.html to view the results.\")\n",
    "# Open the saved map in the default web browser\n",
    "webbrowser.open(\"satellite_prediction.html\")"
   ]
  }
 ],
 "metadata": {
  "kernelspec": {
   "display_name": "base",
   "language": "python",
   "name": "python3"
  },
  "language_info": {
   "codemirror_mode": {
    "name": "ipython",
    "version": 3
   },
   "file_extension": ".py",
   "mimetype": "text/x-python",
   "name": "python",
   "nbconvert_exporter": "python",
   "pygments_lexer": "ipython3",
   "version": "3.12.7"
  }
 },
 "nbformat": 4,
 "nbformat_minor": 4
}
